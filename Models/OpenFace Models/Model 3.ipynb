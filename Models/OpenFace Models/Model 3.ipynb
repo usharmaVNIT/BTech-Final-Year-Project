{
  "nbformat": 4,
  "nbformat_minor": 0,
  "metadata": {
    "colab": {
      "name": "Copy of Copy of 4th Year Project DNN Structure.ipynb",
      "provenance": [],
      "collapsed_sections": []
    },
    "kernelspec": {
      "name": "python3",
      "display_name": "Python 3"
    },
    "language_info": {
      "name": "python"
    },
    "accelerator": "GPU"
  },
  "cells": [
    {
      "cell_type": "code",
      "metadata": {
        "colab": {
          "base_uri": "https://localhost:8080/"
        },
        "id": "3lgr0SCdKixU",
        "outputId": "0bd156c2-2bd2-4b15-de3d-8b5ac5f18dc5"
      },
      "source": [
        "from __future__ import print_function\n",
        "import keras\n",
        "from keras.models import Sequential\n",
        "from keras.layers import Dense, Dropout, Activation\n",
        "from keras.layers import BatchNormalization\n",
        "from keras.regularizers import l2\n",
        "from tensorflow.keras.utils import to_categorical\n",
        "import tensorflow as tf\n",
        "import pandas as pd\n",
        "import numpy as np\n",
        "\n",
        "# Reading feature vector from file\n",
        "raw_data = pd.read_csv('input_final.csv')\n",
        "raw_data.columns = [\"F\"+str(i) for i in range(1, len(raw_data.columns) + 1)]\n",
        "# raw_data = raw_data.sample(frac=1)\n",
        "print(raw_data.head())\n",
        "# Pre-processing the data\n",
        "features = raw_data.copy()\n",
        "features = features.iloc[:,:-1]\n",
        "labels = raw_data.iloc[:,-1:]\n",
        "\n",
        "print(features.head())\n",
        "print(labels.head())\n",
        "\n",
        "features = np.array(features)\n",
        "print(features)\n",
        "labels = np.array(labels)\n",
        "\n",
        "\n",
        "#  Load the dataset\n",
        "# (x_train, y_train) = (features , labels)\n",
        "# (x_test, y_test) = (features , labels)\n",
        "\n",
        "# # Display our data shape/dimensions\n",
        "# print('x_train shape:', x_train.shape)\n",
        "# print(x_train.shape[0], 'train samples')\n",
        "# print(x_test.shape[0], 'test samples')\n",
        "\n",
        "# # Now we one hot encode outputs\n",
        "# ytori = y_train\n",
        "# num_classes = 2\n",
        "# y_train = to_categorical(y_train, num_classes)\n",
        "# y_test = to_categorical(y_test, num_classes)\n"
      ],
      "execution_count": 4,
      "outputs": [
        {
          "output_type": "stream",
          "name": "stdout",
          "text": [
            "           F1         F2         F3  ...         F79         F80  F81\n",
            "0  117.022451  95.567316  77.702550  ...  563.138096  372.219223    1\n",
            "1   40.962661  38.385066  32.198439  ...   66.484803   63.115706    1\n",
            "2   42.924978  39.831538  34.121057  ...   63.761359   52.928770    1\n",
            "3   36.683007  36.746411  30.111912  ...   57.602285   56.224384    1\n",
            "4   38.713092  35.626802  30.483209  ...   57.926560   57.894936    1\n",
            "\n",
            "[5 rows x 81 columns]\n",
            "           F1         F2         F3  ...        F78         F79         F80\n",
            "0  117.022451  95.567316  77.702550  ...  73.861975  563.138096  372.219223\n",
            "1   40.962661  38.385066  32.198439  ...   9.607606   66.484803   63.115706\n",
            "2   42.924978  39.831538  34.121057  ...  11.482237   63.761359   52.928770\n",
            "3   36.683007  36.746411  30.111912  ...   6.235513   57.602285   56.224384\n",
            "4   38.713092  35.626802  30.483209  ...   8.840690   57.926560   57.894936\n",
            "\n",
            "[5 rows x 80 columns]\n",
            "   F81\n",
            "0    1\n",
            "1    1\n",
            "2    1\n",
            "3    1\n",
            "4    1\n",
            "[[117.02245146  95.56731638  77.70254986 ...  73.86197523 563.13809625\n",
            "  372.21922322]\n",
            " [ 40.96266103  38.38506583  32.19843903 ...   9.60760649  66.48480322\n",
            "   63.11570638]\n",
            " [ 42.92497821  39.83153798  34.12105703 ...  11.48223703  63.76135877\n",
            "   52.92877004]\n",
            " ...\n",
            " [ 34.10758813  32.7355694   23.17637907 ...   5.25219521   9.20877033\n",
            "    5.07317251]\n",
            " [ 58.46903113  56.2261979   38.34903171 ...  21.75321224  14.6413101\n",
            "   15.73188311]\n",
            " [ 54.66687507  57.73432753  39.97113907 ...   5.73137076   8.99226143\n",
            "   12.38724838]]\n"
          ]
        }
      ]
    },
    {
      "cell_type": "code",
      "metadata": {
        "id": "8fqYkoeHKujz"
      },
      "source": [
        "# Initialize model\n",
        "model = Sequential()\n",
        "\n",
        "\n",
        "# 1 FC Layer\n",
        "model.add(Dense(100))\n",
        "# model.add(BatchNormalization())\n",
        "model.add(Activation('relu'))\n",
        "# model.add(Dropout(0.2))\n",
        "\n",
        "# # 2 FC Layer\n",
        "model.add(Dense(50))\n",
        "# model.add(BatchNormalization())\n",
        "model.add(Activation('relu'))\n",
        "# model.add(Dropout(0.2))\n",
        "\n",
        "# # 3 FC Layer\n",
        "# model.add(Dense(128))\n",
        "# model.add(BatchNormalization())\n",
        "# model.add(Activation('relu'))\n",
        "# model.add(Dropout(0.5))\n",
        "\n",
        "\n",
        "# # 4 FC Layer\n",
        "# model.add(Dense(256))\n",
        "# model.add(BatchNormalization())\n",
        "# model.add(Activation('relu'))\n",
        "# model.add(Dropout(0.5))\n",
        "\n",
        "\n",
        "# # 5 FC Layer\n",
        "# model.add(Dense(128))\n",
        "# model.add(BatchNormalization())\n",
        "# model.add(Activation('relu'))\n",
        "# model.add(Dropout(0.5))\n",
        "\n",
        "\n",
        "# 6 FC Layer\n",
        "# model.add(Dense(7))\n",
        "# model.add(BatchNormalization())\n",
        "# model.add(Activation('relu'))\n",
        "# model.add(Dropout(0.2))\n",
        "\n",
        "\n",
        "# 7 FC Layer\n",
        "model.add(Dense(10))\n",
        "# model.add(BatchNormalization())\n",
        "model.add(Activation('relu'))\n",
        "# model.add(Dropout(0.2))\n",
        "\n",
        "\n",
        "# 8 FC Layer\n",
        "model.add(Dense(1))\n",
        "# model.add(BatchNormalization())\n",
        "model.add(Activation('sigmoid'))\n",
        "\n",
        "\n",
        "model.compile(loss = 'binary_crossentropy',\n",
        "              optimizer = 'adam',\n",
        "              metrics = ['accuracy'])\n",
        "\n",
        "#print(model.summary())\n"
      ],
      "execution_count": 5,
      "outputs": []
    },
    {
      "cell_type": "code",
      "metadata": {
        "id": "z8TJXTABKyB9"
      },
      "source": [
        "from keras.callbacks import ModelCheckpoint, EarlyStopping\n",
        "batch_size = 1\n",
        "epochs = 50\n",
        "\n",
        "checkpoint = ModelCheckpoint(\"Checkpoint.h5\",\n",
        "                             monitor=\"accuracy\",\n",
        "                             mode=\"max\",\n",
        "                             save_best_only = True,\n",
        "                             verbose=0)\n",
        "\n",
        "earlystop = EarlyStopping(monitor = 'val_loss',\n",
        "                          min_delta = 0,\n",
        "                          patience = 5, \n",
        "                          verbose = 1,\n",
        "                          restore_best_weights = True)\n",
        "\n",
        "callbacks = [checkpoint]"
      ],
      "execution_count": 6,
      "outputs": []
    },
    {
      "cell_type": "code",
      "metadata": {
        "id": "EcNtWJ0YDodS"
      },
      "source": [
        "from sklearn.model_selection import KFold\n",
        "kfold = KFold(n_splits=10, shuffle=True)"
      ],
      "execution_count": 7,
      "outputs": []
    },
    {
      "cell_type": "code",
      "metadata": {
        "colab": {
          "base_uri": "https://localhost:8080/"
        },
        "id": "EuGXSbifTuQB",
        "outputId": "19ee55a7-de3e-46b9-d622-7f04978fc6af"
      },
      "source": [
        "for train, test in kfold.split(features, labels):\n",
        "    history = model.fit(features[train], labels[train],\n",
        "            batch_size=batch_size,\n",
        "            epochs=epochs,\n",
        "            verbose=0,\n",
        "            validation_data = (features[test], labels[test]),\n",
        "            callbacks = callbacks)\n",
        "\n",
        "\n",
        "    scores = model.evaluate(features[test], labels[test], verbose=1)\n",
        "    print('Test loss:', scores[0])\n",
        "    print('Test accuracy:', scores[1])"
      ],
      "execution_count": 8,
      "outputs": [
        {
          "output_type": "stream",
          "name": "stdout",
          "text": [
            "1/1 [==============================] - 0s 213ms/step - loss: 0.4370 - accuracy: 0.8571\n",
            "Test loss: 0.43701478838920593\n",
            "Test accuracy: 0.8571428656578064\n",
            "1/1 [==============================] - 0s 18ms/step - loss: 1.0877 - accuracy: 0.7143\n",
            "Test loss: 1.087722659111023\n",
            "Test accuracy: 0.7142857313156128\n",
            "1/1 [==============================] - 0s 20ms/step - loss: 0.8553 - accuracy: 0.5714\n",
            "Test loss: 0.8552594780921936\n",
            "Test accuracy: 0.5714285969734192\n",
            "1/1 [==============================] - 0s 20ms/step - loss: 0.2149 - accuracy: 0.8571\n",
            "Test loss: 0.2149108499288559\n",
            "Test accuracy: 0.8571428656578064\n",
            "1/1 [==============================] - 0s 19ms/step - loss: 0.3589 - accuracy: 0.8571\n",
            "Test loss: 0.3588659167289734\n",
            "Test accuracy: 0.8571428656578064\n",
            "1/1 [==============================] - 0s 21ms/step - loss: 0.0285 - accuracy: 1.0000\n",
            "Test loss: 0.028477182611823082\n",
            "Test accuracy: 1.0\n",
            "1/1 [==============================] - 0s 19ms/step - loss: 0.0190 - accuracy: 1.0000\n",
            "Test loss: 0.01896875537931919\n",
            "Test accuracy: 1.0\n",
            "1/1 [==============================] - 0s 22ms/step - loss: 1.6214 - accuracy: 0.8571\n",
            "Test loss: 1.621411919593811\n",
            "Test accuracy: 0.8571428656578064\n",
            "1/1 [==============================] - 0s 19ms/step - loss: 0.2052 - accuracy: 1.0000\n",
            "Test loss: 0.20521235466003418\n",
            "Test accuracy: 1.0\n",
            "1/1 [==============================] - 0s 19ms/step - loss: 0.3124 - accuracy: 0.8571\n",
            "Test loss: 0.31241723895072937\n",
            "Test accuracy: 0.8571428656578064\n"
          ]
        }
      ]
    },
    {
      "cell_type": "code",
      "metadata": {
        "colab": {
          "base_uri": "https://localhost:8080/",
          "height": 279
        },
        "id": "WIj7rBJVKydA",
        "outputId": "c79a4b84-bed7-4963-f5d9-9f0e0bfbfe6b"
      },
      "source": [
        "# Plotting our loss charts\n",
        "import matplotlib.pyplot as plt\n",
        "\n",
        "history_dict = history.history\n",
        "\n",
        "loss_values = history_dict['loss']\n",
        "val_loss_values = history_dict['val_loss']\n",
        "epochs = range(1, len(loss_values) + 1)\n",
        "\n",
        "line1 = plt.plot(epochs, val_loss_values, label='Validation/Test Loss')\n",
        "line2 = plt.plot(epochs, loss_values, label='Training Loss')\n",
        "plt.setp(line1, linewidth=2.0, marker = '+', markersize=10.0)\n",
        "plt.setp(line2, linewidth=2.0, marker = '4', markersize=10.0)\n",
        "plt.xlabel('Epochs') \n",
        "plt.ylabel('Loss')\n",
        "plt.grid(True)\n",
        "plt.legend()\n",
        "plt.show()\n",
        "\n",
        "\n"
      ],
      "execution_count": 15,
      "outputs": [
        {
          "output_type": "display_data",
          "data": {
            "image/png": "[encoded data removed]",
            "text/plain": [
              "<Figure size 432x288 with 1 Axes>"
            ]
          },
          "metadata": {
            "needs_background": "light"
          }
        }
      ]
    },
    {
      "cell_type": "code",
      "metadata": {
        "id": "XtaVqaclK05D"
      },
      "source": [
        "nmodel = keras.models.load_model('Checkpoint.h5')\n"
      ],
      "execution_count": 9,
      "outputs": []
    },
    {
      "cell_type": "code",
      "metadata": {
        "id": "aDZBROFDLEEv",
        "colab": {
          "base_uri": "https://localhost:8080/"
        },
        "outputId": "a530b2d0-25ab-4764-8795-44eaea13466e"
      },
      "source": [
        "print(nmodel.summary())"
      ],
      "execution_count": 10,
      "outputs": [
        {
          "output_type": "stream",
          "name": "stdout",
          "text": [
            "Model: \"sequential\"\n",
            "_________________________________________________________________\n",
            "Layer (type)                 Output Shape              Param #   \n",
            "=================================================================\n",
            "dense (Dense)                (None, 100)               8100      \n",
            "_________________________________________________________________\n",
            "activation (Activation)      (None, 100)               0         \n",
            "_________________________________________________________________\n",
            "dense_1 (Dense)              (None, 50)                5050      \n",
            "_________________________________________________________________\n",
            "activation_1 (Activation)    (None, 50)                0         \n",
            "_________________________________________________________________\n",
            "dense_2 (Dense)              (None, 10)                510       \n",
            "_________________________________________________________________\n",
            "activation_2 (Activation)    (None, 10)                0         \n",
            "_________________________________________________________________\n",
            "dense_3 (Dense)              (None, 1)                 11        \n",
            "_________________________________________________________________\n",
            "activation_3 (Activation)    (None, 1)                 0         \n",
            "=================================================================\n",
            "Total params: 13,671\n",
            "Trainable params: 13,671\n",
            "Non-trainable params: 0\n",
            "_________________________________________________________________\n",
            "None\n"
          ]
        }
      ]
    },
    {
      "cell_type": "code",
      "metadata": {
        "id": "kwEbhuFCRVNk",
        "colab": {
          "base_uri": "https://localhost:8080/"
        },
        "outputId": "870b2be8-43d1-4b53-c0a6-8cde2417a2ba"
      },
      "source": [
        "scores = nmodel.evaluate(features, labels, verbose=1)\n",
        "print('Test loss:', scores[0])\n",
        "print('Test accuracy:', scores[1])"
      ],
      "execution_count": 11,
      "outputs": [
        {
          "output_type": "stream",
          "name": "stdout",
          "text": [
            "3/3 [==============================] - 0s 5ms/step - loss: 0.1091 - accuracy: 0.9571\n",
            "Test loss: 0.10910926014184952\n",
            "Test accuracy: 0.9571428298950195\n"
          ]
        }
      ]
    },
    {
      "cell_type": "code",
      "metadata": {
        "colab": {
          "base_uri": "https://localhost:8080/"
        },
        "id": "qsRRub4OGrnE",
        "outputId": "653150fc-4523-491a-c2a5-571e66d80bdd"
      },
      "source": [
        "nmodel.predict(np.array([features[0]]))"
      ],
      "execution_count": 13,
      "outputs": [
        {
          "output_type": "execute_result",
          "data": {
            "text/plain": [
              "array([[0.99998975]], dtype=float32)"
            ]
          },
          "metadata": {},
          "execution_count": 13
        }
      ]
    },
    {
      "cell_type": "code",
      "metadata": {
        "colab": {
          "base_uri": "https://localhost:8080/"
        },
        "id": "bjTxGwWRHEmE",
        "outputId": "92cc3678-7401-4249-a0e4-7507d51c5384"
      },
      "source": [
        "labels[0]"
      ],
      "execution_count": 14,
      "outputs": [
        {
          "output_type": "execute_result",
          "data": {
            "text/plain": [
              "array([1])"
            ]
          },
          "metadata": {},
          "execution_count": 14
        }
      ]
    },
    {
      "cell_type": "code",
      "metadata": {
        "id": "X6hGOOhXHNXN"
      },
      "source": [
        ""
      ],
      "execution_count": null,
      "outputs": []
    }
  ]
}